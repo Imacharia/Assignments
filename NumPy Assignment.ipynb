{
 "cells": [
  {
   "cell_type": "markdown",
   "metadata": {},
   "source": [
    "# ADS NumPy Exercises"
   ]
  },
  {
   "cell_type": "code",
   "execution_count": 1,
   "metadata": {},
   "outputs": [
    {
     "name": "stdout",
     "output_type": "stream",
     "text": [
      "Collecting package metadata (current_repodata.json): ...working... done\n",
      "Solving environment: ...working... done\n",
      "\n",
      "# All requested packages already installed.\n",
      "\n",
      "\n",
      "Note: you may need to restart the kernel to use updated packages.\n"
     ]
    }
   ],
   "source": [
    "conda install numpy"
   ]
  },
  {
   "cell_type": "code",
   "execution_count": 2,
   "metadata": {},
   "outputs": [],
   "source": [
    "import numpy as np"
   ]
  },
  {
   "cell_type": "code",
   "execution_count": 3,
   "metadata": {},
   "outputs": [
    {
     "name": "stdout",
     "output_type": "stream",
     "text": [
      "[0 1 2 3 4 5 6 7 8 9]\n"
     ]
    }
   ],
   "source": [
    "x = [0,1,2,3,4,5,6,7,8,9]\n",
    "nums = np.array([0,1,2,3,4,5,6,7,8,9])\n",
    "print(nums)"
   ]
  },
  {
   "cell_type": "code",
   "execution_count": 4,
   "metadata": {},
   "outputs": [
    {
     "data": {
      "text/plain": [
       "(10,)"
      ]
     },
     "execution_count": 4,
     "metadata": {},
     "output_type": "execute_result"
    }
   ],
   "source": [
    "nums.shape"
   ]
  },
  {
   "cell_type": "code",
   "execution_count": 5,
   "metadata": {},
   "outputs": [
    {
     "data": {
      "text/plain": [
       "dtype('int32')"
      ]
     },
     "execution_count": 5,
     "metadata": {},
     "output_type": "execute_result"
    }
   ],
   "source": [
    "nums.dtype"
   ]
  },
  {
   "cell_type": "markdown",
   "metadata": {},
   "source": [
    "#Create an array of 10 zeros"
   ]
  },
  {
   "cell_type": "code",
   "execution_count": 6,
   "metadata": {},
   "outputs": [
    {
     "data": {
      "text/plain": [
       "array([0., 0., 0., 0., 0., 0., 0., 0., 0., 0.])"
      ]
     },
     "execution_count": 6,
     "metadata": {},
     "output_type": "execute_result"
    }
   ],
   "source": [
    "zeros = np.zeros(10)\n",
    "zeros"
   ]
  },
  {
   "cell_type": "code",
   "execution_count": 7,
   "metadata": {},
   "outputs": [
    {
     "name": "stdout",
     "output_type": "stream",
     "text": [
      "[0. 0. 0. 0. 0. 0. 0. 0. 0. 0.]\n"
     ]
    }
   ],
   "source": [
    "y = [0.,0.,0.,0.,0.,0.,0.,0.,0.,0.]\n",
    "array = np.array([0.,0.,0.,0.,0.,0.,0.,0.,0.,0.])\n",
    "print(array)"
   ]
  },
  {
   "cell_type": "markdown",
   "metadata": {},
   "source": [
    "#Create an array of 10 ones"
   ]
  },
  {
   "cell_type": "code",
   "execution_count": 8,
   "metadata": {},
   "outputs": [
    {
     "data": {
      "text/plain": [
       "array([[1, 1, 1, 1, 1],\n",
       "       [1, 1, 1, 1, 1]])"
      ]
     },
     "execution_count": 8,
     "metadata": {},
     "output_type": "execute_result"
    }
   ],
   "source": [
    "twodim = np.array([[1,1,1,1,1],[1,1,1,1,1]])\n",
    "twodim"
   ]
  },
  {
   "cell_type": "code",
   "execution_count": 9,
   "metadata": {},
   "outputs": [
    {
     "data": {
      "text/plain": [
       "array([1., 1., 1., 1., 1., 1., 1., 1., 1., 1.])"
      ]
     },
     "execution_count": 9,
     "metadata": {},
     "output_type": "execute_result"
    }
   ],
   "source": [
    "ones = np.ones(10)\n",
    "ones"
   ]
  },
  {
   "cell_type": "markdown",
   "metadata": {},
   "source": [
    "##Create an array of 10 fives"
   ]
  },
  {
   "cell_type": "markdown",
   "metadata": {},
   "source": [
    "arr = np.array([[1, 2, 3], [4, 5, 6]])\n",
    "\n",
    "print(arr)"
   ]
  },
  {
   "cell_type": "code",
   "execution_count": 29,
   "metadata": {
    "scrolled": true
   },
   "outputs": [
    {
     "name": "stderr",
     "output_type": "stream",
     "text": [
      "<ipython-input-29-a56eca95d4c6>:1: VisibleDeprecationWarning: Creating an ndarray from ragged nested sequences (which is a list-or-tuple of lists-or-tuples-or ndarrays with different lengths or shapes) is deprecated. If you meant to do this, you must specify 'dtype=object' when creating the ndarray\n",
      "  fives = np.array([[[5,5,5,5,5],[5,5,5,5,5,5],[5,5,5,5,5,5],[5,5,5,5,5,5]]]),\n"
     ]
    },
    {
     "data": {
      "text/plain": [
       "array([[list([5, 5, 5, 5, 5]), list([5, 5, 5, 5, 5, 5])],\n",
       "       [list([5, 5, 5, 5, 5, 5]), list([5, 5, 5, 5, 5, 5])]], dtype=object)"
      ]
     },
     "execution_count": 29,
     "metadata": {},
     "output_type": "execute_result"
    }
   ],
   "source": [
    "fives = np.array([[[5,5,5,5,5],[5,5,5,5,5,5],[5,5,5,5,5,5],[5,5,5,5,5,5]]]), \n",
    "\n",
    "fives1"
   ]
  },
  {
   "cell_type": "markdown",
   "metadata": {},
   "source": [
    "Create an array of the integers from 10 to 50"
   ]
  },
  {
   "cell_type": "code",
   "execution_count": 11,
   "metadata": {},
   "outputs": [
    {
     "data": {
      "text/plain": [
       "array([10, 11, 12, 13, 14, 15, 16, 17, 18, 19, 20, 21, 22, 23, 24, 25, 26,\n",
       "       27, 28, 29, 30, 31, 32, 33, 34, 35, 36, 37, 38, 39, 40, 41, 42, 43,\n",
       "       44, 45, 46, 47, 48, 49, 50])"
      ]
     },
     "execution_count": 11,
     "metadata": {},
     "output_type": "execute_result"
    }
   ],
   "source": [
    "twodim = np.arange(10, 51)\n",
    "twodim"
   ]
  },
  {
   "cell_type": "markdown",
   "metadata": {},
   "source": [
    "Create an array of all the even integers from 10 to 50"
   ]
  },
  {
   "cell_type": "code",
   "execution_count": 15,
   "metadata": {},
   "outputs": [
    {
     "data": {
      "text/plain": [
       "array([10, 12, 14, 16, 18, 20, 22, 24, 26, 28, 30, 32, 34, 36, 38, 40, 42,\n",
       "       44, 46, 48, 50])"
      ]
     },
     "execution_count": 15,
     "metadata": {},
     "output_type": "execute_result"
    }
   ],
   "source": [
    "twodim = np.arange(10, 52, 2)\n",
    "twodim"
   ]
  },
  {
   "cell_type": "markdown",
   "metadata": {},
   "source": [
    "Create a 3x3 matrix with values ranging from 0 to 8"
   ]
  },
  {
   "cell_type": "markdown",
   "metadata": {},
   "source": [
    "array = np.arange(1, 9)\n",
    "array"
   ]
  },
  {
   "cell_type": "markdown",
   "metadata": {},
   "source": [
    "array = ([[0, 1, 2],[3, 4, 5], [6, 7, 8]])\n",
    "\n",
    "array"
   ]
  },
  {
   "cell_type": "markdown",
   "metadata": {},
   "source": [
    "nums = nums.reshape (3, 3)\n",
    "nums"
   ]
  },
  {
   "cell_type": "code",
   "execution_count": 35,
   "metadata": {},
   "outputs": [
    {
     "data": {
      "text/plain": [
       "array([[1, 2, 3],\n",
       "       [4, 5, 6],\n",
       "       [7, 8, 9]])"
      ]
     },
     "execution_count": 35,
     "metadata": {},
     "output_type": "execute_result"
    }
   ],
   "source": [
    "nums2d = np.array(([1,2,3],[4,5,6],[7,8,9]))\n",
    "nums2d "
   ]
  },
  {
   "cell_type": "markdown",
   "metadata": {},
   "source": [
    "array = nums.reshape(1, 1)\n",
    "array "
   ]
  },
  {
   "cell_type": "code",
   "execution_count": 17,
   "metadata": {},
   "outputs": [
    {
     "data": {
      "text/plain": [
       "array([[0, 1, 2],\n",
       "       [3, 4, 5],\n",
       "       [6, 7, 8]])"
      ]
     },
     "execution_count": 17,
     "metadata": {},
     "output_type": "execute_result"
    }
   ],
   "source": [
    "twodim = np.array ([[0, 1, 2],[3, 4, 5],[6, 7, 8]])\n",
    "twodim"
   ]
  },
  {
   "cell_type": "markdown",
   "metadata": {},
   "source": [
    "Create a 3x3 identity matrix"
   ]
  },
  {
   "cell_type": "code",
   "execution_count": 18,
   "metadata": {},
   "outputs": [
    {
     "data": {
      "text/plain": [
       "array([[1., 0., 0.],\n",
       "       [0., 1., 0.],\n",
       "       [0., 0., 1.]])"
      ]
     },
     "execution_count": 18,
     "metadata": {},
     "output_type": "execute_result"
    }
   ],
   "source": [
    "identity = np.eye(3)\n",
    "identity"
   ]
  },
  {
   "cell_type": "markdown",
   "metadata": {},
   "source": [
    "Use NumPy to generate a random number between 0 and 1"
   ]
  },
  {
   "cell_type": "code",
   "execution_count": 21,
   "metadata": {},
   "outputs": [
    {
     "data": {
      "text/plain": [
       "0"
      ]
     },
     "execution_count": 21,
     "metadata": {},
     "output_type": "execute_result"
    }
   ],
   "source": [
    "random = np.random.randint(0, 2)\n",
    "random"
   ]
  },
  {
   "cell_type": "code",
   "execution_count": null,
   "metadata": {},
   "outputs": [],
   "source": [
    "##Use NumPy to generate an array of 25 random numbers sampled from a standard normal distribution"
   ]
  },
  {
   "cell_type": "code",
   "execution_count": 47,
   "metadata": {},
   "outputs": [
    {
     "name": "stdout",
     "output_type": "stream",
     "text": [
      "[-0.61822861 -0.22342956  0.67129722 -0.78590504 -0.54505183  1.6969775\n",
      "  1.93305329 -1.12904112 -0.57801419  0.47115872 -0.48338351 -0.56160527\n",
      " -0.06676062 -0.77482417  0.82384933 -0.69293758 -0.38564923  1.53929814\n",
      " -0.61289714  0.60674302  1.64892427  0.91917867  0.60444954 -0.75632438\n",
      " -0.46882815]\n"
     ]
    }
   ],
   "source": [
    "stan_norm_dist = np.random.normal (0, 1, 25)\n",
    "print(stan_norm_dist)\n"
   ]
  },
  {
   "cell_type": "code",
   "execution_count": 31,
   "metadata": {},
   "outputs": [
    {
     "data": {
      "text/plain": [
       "array([[ 1.04237957,  0.67556743,  0.06200039,  0.21563986,  0.6635188 ,\n",
       "        -0.35912485, -0.54763595,  2.56694835, -3.05133737,  1.76096866,\n",
       "        -1.07571235,  0.49648728,  1.1532986 ,  1.87661288, -1.55920638,\n",
       "         1.48489785,  0.60766091,  1.44659113, -0.533324  ,  0.03991772],\n",
       "       [ 0.06807206, -0.7202598 , -1.0483258 ,  1.14810123,  0.86094292,\n",
       "         1.0530573 , -0.2133967 , -1.23480879, -0.42360097, -0.19400215,\n",
       "         0.56410061, -0.21989307,  0.5734485 ,  0.52196638, -0.59980464,\n",
       "         0.12474546, -1.18262246,  0.75402016, -0.60713858, -1.08704827],\n",
       "       [-0.37538046, -0.13480058,  0.06494332, -0.37423711, -0.08348053,\n",
       "        -0.78930098,  1.36143085, -0.22962239,  1.15333484, -0.70181862,\n",
       "        -1.57357253,  0.40435251, -1.72843571,  0.56227011, -0.7749527 ,\n",
       "        -0.56662501, -1.87672921,  0.66285308, -0.15028639,  0.09130202],\n",
       "       [-0.27265627, -0.088296  , -1.49885515, -0.43955421,  0.43463118,\n",
       "        -0.84862142, -1.14447527, -0.97360869,  0.01662169, -0.46620648,\n",
       "        -0.6765789 , -0.63841389,  0.54500853, -0.55439591, -0.58258571,\n",
       "        -1.30765148, -0.58291175, -0.54349779,  0.32319885,  0.70886278],\n",
       "       [-0.13868405, -2.06450112,  1.57577184, -1.02081519, -0.04101058,\n",
       "         1.00119801,  1.73257033,  0.5089977 , -0.46210313, -1.18880013,\n",
       "         1.88914149, -1.13990544, -0.01824476, -1.79268441,  0.73089673,\n",
       "         1.33385062, -0.04449136, -2.84632579, -0.49801912,  1.78492964]])"
      ]
     },
     "execution_count": 31,
     "metadata": {},
     "output_type": "execute_result"
    }
   ],
   "source": [
    "stan_dist1 = np.random.randn(5, 20)\n",
    "stan_dist1"
   ]
  },
  {
   "cell_type": "code",
   "execution_count": 53,
   "metadata": {},
   "outputs": [
    {
     "data": {
      "text/plain": [
       "array([[0.15374132, 0.99828975, 0.06321501, 0.03154433, 0.57730629,\n",
       "        0.6911074 , 0.43225864, 0.77390066, 0.55887411, 0.5773845 ,\n",
       "        0.05520117, 0.10654331, 0.83550556, 0.42634196, 0.82238935,\n",
       "        0.01363128, 0.57655349, 0.72557842, 0.59090016, 0.01917337],\n",
       "       [0.94247798, 0.64667016, 0.69753897, 0.5049362 , 0.57255453,\n",
       "        0.08565601, 0.98996874, 0.41682863, 0.63216412, 0.01571756,\n",
       "        0.33544972, 0.75732331, 0.38577033, 0.86992621, 0.78496217,\n",
       "        0.5515032 , 0.28994606, 0.25250196, 0.54021475, 0.24310069],\n",
       "       [0.80995627, 0.56647799, 0.27883678, 0.33832481, 0.42511304,\n",
       "        0.77221471, 0.22089911, 0.37252008, 0.28215106, 0.48687533,\n",
       "        0.29893599, 0.56469585, 0.30146943, 0.2843468 , 0.48338481,\n",
       "        0.13323291, 0.87452186, 0.45463424, 0.20487313, 0.90985101],\n",
       "       [0.95301774, 0.29351872, 0.86075022, 0.8439565 , 0.26874546,\n",
       "        0.36218984, 0.10342679, 0.1427921 , 0.23459154, 0.96715376,\n",
       "        0.96904718, 0.21212952, 0.32392103, 0.34175975, 0.88499152,\n",
       "        0.40357111, 0.18473858, 0.42190725, 0.38669675, 0.01962567],\n",
       "       [0.17951903, 0.23788205, 0.31726622, 0.24733819, 0.79991946,\n",
       "        0.76205338, 0.74051908, 0.05783631, 0.598771  , 0.80456855,\n",
       "        0.19227463, 0.51350206, 0.34828639, 0.68149577, 0.51303434,\n",
       "        0.91772419, 0.9707081 , 0.11327973, 0.45991444, 0.30931298]])"
      ]
     },
     "execution_count": 53,
     "metadata": {},
     "output_type": "execute_result"
    }
   ],
   "source": [
    "stan_dist = np.random.rand(5, 20)\n",
    "stan_dist"
   ]
  },
  {
   "cell_type": "code",
   "execution_count": null,
   "metadata": {},
   "outputs": [],
   "source": [
    "#Create an array of 20 linearly spaced points between 0 and 1:"
   ]
  },
  {
   "cell_type": "code",
   "execution_count": 55,
   "metadata": {},
   "outputs": [
    {
     "data": {
      "text/plain": [
       "array([0.        , 0.05263158, 0.10526316, 0.15789474, 0.21052632,\n",
       "       0.26315789, 0.31578947, 0.36842105, 0.42105263, 0.47368421,\n",
       "       0.52631579, 0.57894737, 0.63157895, 0.68421053, 0.73684211,\n",
       "       0.78947368, 0.84210526, 0.89473684, 0.94736842, 1.        ])"
      ]
     },
     "execution_count": 55,
     "metadata": {},
     "output_type": "execute_result"
    }
   ],
   "source": [
    "linear_sp = np.linspace(0, 1, 20)\n",
    "linear_sp"
   ]
  },
  {
   "cell_type": "markdown",
   "metadata": {},
   "source": [
    "# Numpy Indexing and Selection"
   ]
  },
  {
   "cell_type": "code",
   "execution_count": 95,
   "metadata": {},
   "outputs": [
    {
     "data": {
      "text/plain": [
       "array([ 1,  2,  3,  4,  5,  6,  7,  8,  9, 10, 11, 12, 13, 14, 15, 16, 17,\n",
       "       18, 19, 20, 21, 22, 23, 24, 25])"
      ]
     },
     "execution_count": 95,
     "metadata": {},
     "output_type": "execute_result"
    }
   ],
   "source": [
    "inde_sel = np.array([ 1,  2,  3,  4,  5,  6,  7,  8,  9, 10, 11, 12, 13, 14, 15, 16, 17, 18, 19, 20, 21, 22, 23, 24, 25,])\n",
    "\n",
    "inde_sel\n"
   ]
  },
  {
   "cell_type": "code",
   "execution_count": 97,
   "metadata": {},
   "outputs": [
    {
     "data": {
      "text/plain": [
       "array([[ 1,  2,  3,  4,  5],\n",
       "       [ 6,  7,  8,  9, 10],\n",
       "       [11, 12, 13, 14, 15],\n",
       "       [16, 17, 18, 19, 20],\n",
       "       [21, 22, 23, 24, 25]])"
      ]
     },
     "execution_count": 97,
     "metadata": {},
     "output_type": "execute_result"
    }
   ],
   "source": [
    "inde_sel = np.array([[ 1,  2,  3,  4,  5],[6,  7,  8,  9, 10,],[11, 12, 13, 14, 15],\n",
    "                     [16, 17, 18, 19, 20],[21, 22, 23, 24, 25]])\n",
    "inde_sel"
   ]
  },
  {
   "cell_type": "code",
   "execution_count": 122,
   "metadata": {},
   "outputs": [
    {
     "data": {
      "text/plain": [
       "array([[12, 13, 14, 15],\n",
       "       [17, 18, 19, 20],\n",
       "       [22, 23, 24, 25]])"
      ]
     },
     "execution_count": 122,
     "metadata": {},
     "output_type": "execute_result"
    }
   ],
   "source": [
    "index = np.arange(11, 26)\n",
    "index1 = index.reshape(3, 5)\n",
    "index1\n",
    "index1 = index[np.mod(np.arange(index.size),5) != 0]\n",
    "Ans = index1.reshape(3, 4)\n",
    "Ans"
   ]
  },
  {
   "cell_type": "markdown",
   "metadata": {},
   "source": [
    "# WRITE CODE HERE THAT REPRODUCES THE OUTPUT OF THE CELL BELOW AS AN ARRAY"
   ]
  },
  {
   "cell_type": "code",
   "execution_count": 44,
   "metadata": {},
   "outputs": [
    {
     "name": "stdout",
     "output_type": "stream",
     "text": [
      "20\n"
     ]
    }
   ],
   "source": [
    "index = np.arange(15, 26)\n",
    "index\n",
    "print(20)"
   ]
  },
  {
   "cell_type": "code",
   "execution_count": 51,
   "metadata": {},
   "outputs": [
    {
     "data": {
      "text/plain": [
       "array([ 1,  2,  3,  4,  5,  6,  7,  8,  9, 10, 11, 12, 13])"
      ]
     },
     "execution_count": 51,
     "metadata": {},
     "output_type": "execute_result"
    }
   ],
   "source": [
    "index = np.arange(1, 14)\n",
    "index"
   ]
  },
  {
   "cell_type": "code",
   "execution_count": 71,
   "metadata": {},
   "outputs": [
    {
     "data": {
      "text/plain": [
       "array([ 2,  3,  4,  5,  7,  8,  9, 10, 12, 13])"
      ]
     },
     "execution_count": 71,
     "metadata": {},
     "output_type": "execute_result"
    }
   ],
   "source": [
    "index1 = index[np.mod(np.arange(index.size),5) != 0]\n",
    "index1"
   ]
  },
  {
   "cell_type": "code",
   "execution_count": 88,
   "metadata": {},
   "outputs": [
    {
     "data": {
      "text/plain": [
       "array([[ 2],\n",
       "       [ 7],\n",
       "       [12]])"
      ]
     },
     "execution_count": 88,
     "metadata": {},
     "output_type": "execute_result"
    }
   ],
   "source": [
    "np.vstack((index1[0],index1[4],index1[8]))\n"
   ]
  },
  {
   "cell_type": "code",
   "execution_count": 106,
   "metadata": {},
   "outputs": [
    {
     "data": {
      "text/plain": [
       "array([[ 1,  2,  3,  4,  5],\n",
       "       [ 6,  7,  8,  9, 10],\n",
       "       [11, 12, 13, 14, 15],\n",
       "       [16, 17, 18, 19, 20],\n",
       "       [21, 22, 23, 24, 25]])"
      ]
     },
     "execution_count": 106,
     "metadata": {},
     "output_type": "execute_result"
    }
   ],
   "source": [
    "inde_sel = np.array([[ 1,  2,  3,  4,  5],[6,  7,  8,  9, 10,],[11, 12, 13, 14, 15],\n",
    "                     [16, 17, 18, 19, 20],[21, 22, 23, 24, 25]])\n",
    "inde_sel"
   ]
  },
  {
   "cell_type": "code",
   "execution_count": 110,
   "metadata": {},
   "outputs": [
    {
     "data": {
      "text/plain": [
       "array([[ 1,  2,  3,  4,  5],\n",
       "       [ 6,  7,  8,  9, 10],\n",
       "       [11, 12, 13, 14, 15],\n",
       "       [16, 17, 18, 19, 20],\n",
       "       [21, 22, 23, 24, 25]])"
      ]
     },
     "execution_count": 110,
     "metadata": {},
     "output_type": "execute_result"
    }
   ],
   "source": [
    "\n",
    "inde_sel2d = np.array([[ 1,  2,  3,  4,  5],[6,  7,  8,  9, 10,],[11, 12, 13, 14, 15],\n",
    "                     [16, 17, 18, 19, 20],[21, 22, 23, 24, 25]])\n",
    "inde_sel2d\n"
   ]
  },
  {
   "cell_type": "code",
   "execution_count": 113,
   "metadata": {},
   "outputs": [
    {
     "data": {
      "text/plain": [
       "25"
      ]
     },
     "execution_count": 113,
     "metadata": {},
     "output_type": "execute_result"
    }
   ],
   "source": [
    "inde_sel2d[4,4]"
   ]
  },
  {
   "cell_type": "code",
   "execution_count": 115,
   "metadata": {},
   "outputs": [
    {
     "name": "stdout",
     "output_type": "stream",
     "text": [
      "[21 22 23 24 25]\n"
     ]
    }
   ],
   "source": [
    "print(inde_sel2d[4])"
   ]
  },
  {
   "cell_type": "code",
   "execution_count": 133,
   "metadata": {},
   "outputs": [
    {
     "data": {
      "text/plain": [
       "array([[ 1,  2,  3,  4,  5],\n",
       "       [ 6,  7,  8,  9, 10],\n",
       "       [11, 12, 13, 14, 15],\n",
       "       [16, 17, 18, 19, 20],\n",
       "       [21, 22, 23, 24, 25]])"
      ]
     },
     "execution_count": 133,
     "metadata": {},
     "output_type": "execute_result"
    }
   ],
   "source": [
    "inde_sel3d = np.array([[ 1,  2,  3,  4,  5],[6,  7,  8,  9, 10,],[11, 12, 13, 14, 15],\n",
    "                     [16, 17, 18, 19, 20],[21, 22, 23, 24, 25]])\n",
    "inde_sel3d"
   ]
  },
  {
   "cell_type": "code",
   "execution_count": 134,
   "metadata": {},
   "outputs": [
    {
     "name": "stdout",
     "output_type": "stream",
     "text": [
      "[16 17 18 19 20] [21 22 23 24 25]\n"
     ]
    }
   ],
   "source": [
    "print(inde_sel3d[3], inde_sel3d[4])"
   ]
  },
  {
   "cell_type": "code",
   "execution_count": 135,
   "metadata": {},
   "outputs": [
    {
     "data": {
      "text/plain": [
       "array([[16, 17, 18, 19, 20],\n",
       "       [21, 22, 23, 24, 25]])"
      ]
     },
     "execution_count": 135,
     "metadata": {},
     "output_type": "execute_result"
    }
   ],
   "source": [
    "np.vstack((inde_sel3d[3], inde_sel3d[4]))"
   ]
  },
  {
   "cell_type": "code",
   "execution_count": 132,
   "metadata": {},
   "outputs": [
    {
     "data": {
      "text/plain": [
       "array([[16, 17, 18, 19, 20],\n",
       "       [21, 22, 23, 24, 25]])"
      ]
     },
     "execution_count": 132,
     "metadata": {},
     "output_type": "execute_result"
    }
   ],
   "source": [
    "inde_sel3 = np.array([[16, 17, 18, 19, 20],[21, 22, 23, 24, 25]])\n",
    "inde_sel3"
   ]
  },
  {
   "cell_type": "markdown",
   "metadata": {},
   "source": [
    "## Now do the following"
   ]
  },
  {
   "cell_type": "markdown",
   "metadata": {},
   "source": [
    "###Get the sum of all the values in mat"
   ]
  },
  {
   "cell_type": "code",
   "execution_count": 101,
   "metadata": {},
   "outputs": [
    {
     "data": {
      "text/plain": [
       "array([[ 1,  2,  3,  4,  5],\n",
       "       [ 6,  7,  8,  9, 10],\n",
       "       [11, 12, 13, 14, 15],\n",
       "       [16, 17, 18, 19, 20],\n",
       "       [21, 22, 23, 24, 25]])"
      ]
     },
     "execution_count": 101,
     "metadata": {},
     "output_type": "execute_result"
    }
   ],
   "source": [
    "mat = np.arange(1,26).reshape(5,5)\n",
    "mat"
   ]
  },
  {
   "cell_type": "code",
   "execution_count": null,
   "metadata": {},
   "outputs": [],
   "source": []
  },
  {
   "cell_type": "code",
   "execution_count": null,
   "metadata": {},
   "outputs": [],
   "source": []
  }
 ],
 "metadata": {
  "kernelspec": {
   "display_name": "Python 3",
   "language": "python",
   "name": "python3"
  },
  "language_info": {
   "codemirror_mode": {
    "name": "ipython",
    "version": 3
   },
   "file_extension": ".py",
   "mimetype": "text/x-python",
   "name": "python",
   "nbconvert_exporter": "python",
   "pygments_lexer": "ipython3",
   "version": "3.8.5"
  }
 },
 "nbformat": 4,
 "nbformat_minor": 4
}
